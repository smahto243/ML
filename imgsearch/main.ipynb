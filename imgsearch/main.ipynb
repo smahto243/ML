{
 "cells": [
  {
   "cell_type": "code",
   "execution_count": 18,
   "metadata": {
    "collapsed": true
   },
   "outputs": [],
   "source": [
    "import numpy as np\n",
    "import matplotlib.pyplot as plt\n",
    "import h5py\n",
    "import csv\n",
    "import cv2\n",
    "import os\n",
    "import argparse\n",
    "from imutils import paths"
   ]
  },
  {
   "cell_type": "code",
   "execution_count": 19,
   "metadata": {
    "collapsed": true
   },
   "outputs": [],
   "source": [
    "def im_to_vector(images, size=(32,32)):\n",
    "    # Resize the images in fixed dim and flattern it(cnvt into vector):\n",
    "    try:\n",
    "        return cv2.resize(images, size)\n",
    "    except Exception as e:\n",
    "        print(e)"
   ]
  },
  {
   "cell_type": "code",
   "execution_count": 120,
   "metadata": {},
   "outputs": [],
   "source": [
    "def img_label_read(imagepath):\n",
    "    imagePaths = imagepath\n",
    "\n",
    "    # grab the list of images that we'll be describing\n",
    "    imagePaths = list(paths.list_images(imagePaths))\n",
    "    \n",
    "    # initialize the data matrix and labels list\n",
    "    data = []\n",
    "    labels = []\n",
    "    \n",
    "    # loop over the input images\n",
    "    for (i, imagePath) in enumerate(imagePaths):\n",
    "        # load the image and extract the class label (assuming that our\n",
    "        # path as the format: /path/to/dataset/{class}.{image_num}.jpg\n",
    "        image = cv2.imread(imagePath)\n",
    "        label = imagePath.split(os.path.sep)[-1].split(\".\")[0]\n",
    " \n",
    "        # construct a feature vector raw pixel intensities, then update\n",
    "    # the data matrix and labels list\n",
    "        features = im_to_vector(image)\n",
    "        data.append(features)\n",
    "        labels.append(label)\n",
    " \n",
    "    # show an update every 1,000 images\n",
    "        try:\n",
    "            if i > 0 and i % 1 == 0:\n",
    "                print(\"[INFO] processed {}/{}\".format(i, len(imagePaths)))\n",
    "        except Exception as e:\n",
    "            print(str(e))\n",
    "    return data, labels"
   ]
  },
  {
   "cell_type": "code",
   "execution_count": 127,
   "metadata": {
    "collapsed": true
   },
   "outputs": [],
   "source": [
    "def list_to_dict(data,label):\n",
    "    mydict={}\n",
    "    for i,j in zip(data,label):\n",
    "        mydict[j] = i\n",
    "    return mydict"
   ]
  },
  {
   "cell_type": "code",
   "execution_count": 141,
   "metadata": {
    "collapsed": true
   },
   "outputs": [],
   "source": [
    "def dict_to_csv(dic_data, filepath, mode='w'):\n",
    "    with open(filepath, mode) as csv_file:\n",
    "        writer = csv.writer(csv_file)\n",
    "        for key, value in dic_data.items():\n",
    "            writer.writerow([value, key])\n",
    "    "
   ]
  },
  {
   "cell_type": "code",
   "execution_count": 143,
   "metadata": {},
   "outputs": [
    {
     "name": "stdout",
     "output_type": "stream",
     "text": [
      "[INFO] processed 1/3\n",
      "[INFO] processed 2/3\n"
     ]
    }
   ],
   "source": [
    "if __name__ == \"__main__\":\n",
    "    d, l =img_label_read(\"../images/\")\n",
    "    dic=list_to_dict(d, l)\n",
    "    dict_to_csv(dic,\"new.csv\")"
   ]
  },
  {
   "cell_type": "code",
   "execution_count": 144,
   "metadata": {},
   "outputs": [
    {
     "data": {
      "text/plain": [
       "['watch1', 'watch', 'watch2']"
      ]
     },
     "execution_count": 144,
     "metadata": {},
     "output_type": "execute_result"
    }
   ],
   "source": [
    "dic.keys()"
   ]
  },
  {
   "cell_type": "code",
   "execution_count": null,
   "metadata": {
    "collapsed": true
   },
   "outputs": [],
   "source": []
  }
 ],
 "metadata": {
  "kernelspec": {
   "display_name": "Python 2",
   "language": "python",
   "name": "python2"
  },
  "language_info": {
   "codemirror_mode": {
    "name": "ipython",
    "version": 2
   },
   "file_extension": ".py",
   "mimetype": "text/x-python",
   "name": "python",
   "nbconvert_exporter": "python",
   "pygments_lexer": "ipython2",
   "version": "2.7.6"
  }
 },
 "nbformat": 4,
 "nbformat_minor": 2
}
