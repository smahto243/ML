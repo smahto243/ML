{
 "cells": [
  {
   "cell_type": "code",
   "execution_count": 224,
   "metadata": {},
   "outputs": [],
   "source": [
    "import numpy as np\n",
    "import matplotlib.pyplot as plt\n",
    "import h5py\n",
    "import csv\n",
    "import cv2\n",
    "import os\n",
    "import argparse\n",
    "from imutils import paths"
   ]
  },
  {
   "cell_type": "code",
   "execution_count": 240,
   "metadata": {
    "collapsed": true
   },
   "outputs": [],
   "source": [
    "def im_to_vector(images, size=(32,32)):\n",
    "    # Resize the images in fixed dim and flattern it(cnvt into vector):\n",
    "    try:\n",
    "        return cv2.resize(images, size)\n",
    "    except Exception as e:\n",
    "        print(e)"
   ]
  },
  {
   "cell_type": "code",
   "execution_count": 312,
   "metadata": {},
   "outputs": [],
   "source": [
    "def img_label_read(imagepath):\n",
    "    imagePaths = imagepath\n",
    "\n",
    "    # grab the list of images that we'll be describing\n",
    "    imagePaths = list(paths.list_images(imagePaths))\n",
    "    \n",
    "    # initialize the data matrix and labels list\n",
    "    data = []\n",
    "    labels = []\n",
    "\n",
    "    # loop over the input images\n",
    "    for (i, imagePath) in enumerate(imagePaths):\n",
    "        # load the image and extract the class label (assuming that our\n",
    "        # path as the format: /path/to/dataset/{class}.{image_num}.jpg\n",
    "        image = cv2.imread(imagePath)\n",
    "        label = imagePath.split(os.path.sep)[-1].split(\".\")[0]\n",
    " \n",
    "        # construct a feature vector raw pixel intensities, then update\n",
    "    # the data matrix and labels list\n",
    "        features = im_to_vector(image)\n",
    "        data.append(features)\n",
    "        labels.append(label)\n",
    " \n",
    "    # show an update every 1,000 images\n",
    "        try:\n",
    "            if i > 0 and i % 1 == 0:\n",
    "                print(\"[INFO] processed {}/{}\".format(i, len(imagePaths)))\n",
    "        except Exception as e:\n",
    "            print(str(e))\n",
    "    return data, labels"
   ]
  },
  {
   "cell_type": "code",
   "execution_count": 313,
   "metadata": {},
   "outputs": [
    {
     "name": "stdout",
     "output_type": "stream",
     "text": [
      "[INFO] processed 1/2\n"
     ]
    }
   ],
   "source": [
    "x=img_label_read(\"../images/\")"
   ]
  },
  {
   "cell_type": "code",
   "execution_count": 311,
   "metadata": {},
   "outputs": [
    {
     "data": {
      "text/plain": [
       "(32, 32, 3)"
      ]
     },
     "execution_count": 311,
     "metadata": {},
     "output_type": "execute_result"
    }
   ],
   "source": [
    "x[0][1].shape"
   ]
  },
  {
   "cell_type": "code",
   "execution_count": null,
   "metadata": {
    "collapsed": true
   },
   "outputs": [],
   "source": []
  }
 ],
 "metadata": {
  "kernelspec": {
   "display_name": "Python 2",
   "language": "python",
   "name": "python2"
  },
  "language_info": {
   "codemirror_mode": {
    "name": "ipython",
    "version": 2
   },
   "file_extension": ".py",
   "mimetype": "text/x-python",
   "name": "python",
   "nbconvert_exporter": "python",
   "pygments_lexer": "ipython2",
   "version": "2.7.6"
  }
 },
 "nbformat": 4,
 "nbformat_minor": 2
}
